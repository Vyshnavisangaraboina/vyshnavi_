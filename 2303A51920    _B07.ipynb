{
  "nbformat": 4,
  "nbformat_minor": 0,
  "metadata": {
    "colab": {
      "provenance": [],
      "authorship_tag": "ABX9TyNB4kpnvfqx0TLxz45fQTMF",
      "include_colab_link": true
    },
    "kernelspec": {
      "name": "python3",
      "display_name": "Python 3"
    },
    "language_info": {
      "name": "python"
    }
  },
  "cells": [
    {
      "cell_type": "markdown",
      "metadata": {
        "id": "view-in-github",
        "colab_type": "text"
      },
      "source": [
        "<a href=\"https://colab.research.google.com/github/Vyshnavisangaraboina/vyshnavi_/blob/main/2303A51920%20%20%20%20_B07.ipynb\" target=\"_parent\"><img src=\"https://colab.research.google.com/assets/colab-badge.svg\" alt=\"Open In Colab\"/></a>"
      ]
    },
    {
      "cell_type": "markdown",
      "source": [
        "###prediction of Guitar Chords and finger positions in Song composition"
      ],
      "metadata": {
        "id": "N8IBTA8lTkLU"
      }
    },
    {
      "cell_type": "markdown",
      "source": [
        "1.Identify the top 5 chords most played"
      ],
      "metadata": {
        "id": "L4BCTPlfTxls"
      }
    },
    {
      "cell_type": "markdown",
      "source": [
        "2.Predict the finger positions used most in chords"
      ],
      "metadata": {
        "id": "DRU1LpMXT4kU"
      }
    },
    {
      "cell_type": "markdown",
      "source": [
        "3.Top 5 string movements for song composition"
      ],
      "metadata": {
        "id": "vNKjRAq4UAwG"
      }
    },
    {
      "cell_type": "markdown",
      "source": [
        "4.Name the chord condition most suitable for middle and pinkie"
      ],
      "metadata": {
        "id": "F00iE1cuUcN2"
      }
    },
    {
      "cell_type": "markdown",
      "source": [
        "5.Identify the chord with combination of middle, index and ring fingers"
      ],
      "metadata": {
        "id": "eKEaBAfxUxxI"
      }
    },
    {
      "cell_type": "markdown",
      "source": [
        "1."
      ],
      "metadata": {
        "id": "EUJ_FjE3agx3"
      }
    },
    {
      "cell_type": "code",
      "source": [
        "from collections import Counter\n",
        "chords_played = [\n",
        "    'C Major', 'G Major', 'A Minor', 'C Major', 'G Major', 'D Major', 'A Minor',\n",
        "    'C Major', 'G Major', 'E Minor', 'A Minor', 'G Major', 'D Major', 'E Minor',\n",
        "    'C Major', 'D Major', 'A Minor', 'G Major', 'F Major', 'G Major', 'A Minor'\n",
        "]\n",
        "chord_counts = Counter(chords_played)\n",
        "top_chords = chord_counts.most_common(5)\n",
        "print(\"Top 5 Most Played Chords:\")\n",
        "for chord, count in top_chords:\n",
        "    print(f\"{chord}: {count}\")\n"
      ],
      "metadata": {
        "colab": {
          "base_uri": "https://localhost:8080/"
        },
        "id": "TmAJQPqYj7cD",
        "outputId": "d1b858b5-dfae-4793-fb33-00572b3e99d8"
      },
      "execution_count": 15,
      "outputs": [
        {
          "output_type": "stream",
          "name": "stdout",
          "text": [
            "Top 5 Most Played Chords:\n",
            "G Major: 6\n",
            "A Minor: 5\n",
            "C Major: 4\n",
            "D Major: 3\n",
            "E Minor: 2\n"
          ]
        }
      ]
    },
    {
      "cell_type": "markdown",
      "source": [
        "2."
      ],
      "metadata": {
        "id": "5oy2Ysy3atEk"
      }
    },
    {
      "cell_type": "code",
      "source": [
        "from collections import Counter\n",
        "chord_finger_positions = {\n",
        "    'C Major': (0, 1, 0, 3),\n",
        "    'G Major': (2, 3, 0, 0),\n",
        "    'A Minor': (0, 2, 2, 0),\n",
        "    'D Major': (0, 2, 3, 2),\n",
        "    'E Minor': (0, 2, 2, 0),\n",
        "    'F Major': (1, 3, 3, 0),\n",
        "}\n",
        "finger_positions_played = [\n",
        "    (0, 1, 0, 3),\n",
        "    (2, 3, 0, 0),\n",
        "    (0, 2, 2, 0),\n",
        "    (0, 2, 3, 2),\n",
        "    (0, 2, 2, 0),\n",
        "    (1, 3, 3, 0),\n",
        "    (0, 1, 0, 3),\n",
        "    (2, 3, 0, 0),\n",
        "    (0, 2, 2, 0),\n",
        "    (0, 2, 3, 2),\n",
        "]\n",
        "finger_position_counts = Counter(finger_positions_played)\n",
        "top_finger_positions = finger_position_counts.most_common(5)\n",
        "print(\"Top 5 Most Used Finger Positions:\")\n",
        "for position, count in top_finger_positions:\n",
        "    print(f\"Finger Position {position}: {count} times\")\n"
      ],
      "metadata": {
        "colab": {
          "base_uri": "https://localhost:8080/"
        },
        "id": "tSk3QRGUmEJF",
        "outputId": "fe7d2dc5-fc89-42fa-937e-a5c858e04d7d"
      },
      "execution_count": 16,
      "outputs": [
        {
          "output_type": "stream",
          "name": "stdout",
          "text": [
            "Top 5 Most Used Finger Positions:\n",
            "Finger Position (0, 2, 2, 0): 3 times\n",
            "Finger Position (0, 1, 0, 3): 2 times\n",
            "Finger Position (2, 3, 0, 0): 2 times\n",
            "Finger Position (0, 2, 3, 2): 2 times\n",
            "Finger Position (1, 3, 3, 0): 1 times\n"
          ]
        }
      ]
    },
    {
      "cell_type": "markdown",
      "source": [
        "3."
      ],
      "metadata": {
        "id": "JPiVRgYDZl26"
      }
    },
    {
      "cell_type": "code",
      "source": [
        "from collections import Counter\n",
        "string_movements = [\n",
        "    (6, 5), (5, 4), (4, 3), (3, 2),\n",
        "    (6, 5), (5, 4), (4, 3), (3, 2),\n",
        "    (6, 4), (5, 3), (6, 5), (4, 2),\n",
        "    (3, 1), (6, 5), (6, 4), (5, 3),\n",
        "    (4, 3), (2, 1), (6, 5), (5, 4),\n",
        "    (6, 3), (5, 4), (3, 2), (1, 6),\n",
        "]\n",
        "movement_counts = Counter(string_movements)\n",
        "\n",
        "top_string_movements = movement_counts.most_common(5)\n",
        "print(\"Top 5 String Movements:\")\n",
        "for movement, count in top_string_movements:\n",
        "    print(f\"Move from String {movement[0]} to String {movement[1]}: {count} times\")\n"
      ],
      "metadata": {
        "colab": {
          "base_uri": "https://localhost:8080/"
        },
        "id": "HaBiJCHsmS4q",
        "outputId": "abcdc64d-20d7-4d8c-bca4-9d878d007472"
      },
      "execution_count": 17,
      "outputs": [
        {
          "output_type": "stream",
          "name": "stdout",
          "text": [
            "Top 5 String Movements:\n",
            "Move from String 6 to String 5: 5 times\n",
            "Move from String 5 to String 4: 4 times\n",
            "Move from String 4 to String 3: 3 times\n",
            "Move from String 3 to String 2: 3 times\n",
            "Move from String 6 to String 4: 2 times\n"
          ]
        }
      ]
    },
    {
      "cell_type": "markdown",
      "source": [
        "4."
      ],
      "metadata": {
        "id": "rKx8HyqPZsFb"
      }
    },
    {
      "cell_type": "code",
      "source": [
        "\n",
        "chord_conditions = {\n",
        "    'C Major': (0, 1, 0, 3),\n",
        "    'G Major': (2, 3, 0, 3),\n",
        "    'A Minor': (0, 2, 2, 0),\n",
        "    'D Major': (0, 2, 3, 2),\n",
        "    'F Major': (1, 3, 3, 3),\n",
        "    'B Major': (2, 4, 4, 4),\n",
        "    'E Major': (1, 2, 2, 0),\n",
        "}\n",
        "def identify_chords_for_middle_and_pinkie(chord_conditions):\n",
        "    suitable_chords = []\n",
        "    for chord, fingers in chord_conditions.items():\n",
        "        middle_finger, pinkie_finger = fingers[1], fingers[3]\n",
        "        if middle_finger > 0 and pinkie_finger > 0:\n",
        "            suitable_chords.append(chord)\n",
        "    return suitable_chords\n",
        "suitable_chords = identify_chords_for_middle_and_pinkie(chord_conditions)\n",
        "\n",
        "# Print the result\n",
        "print(\"Chords most suitable for middle and pinkie fingers:\")\n",
        "for chord in suitable_chords:\n",
        "    print(chord)\n"
      ],
      "metadata": {
        "colab": {
          "base_uri": "https://localhost:8080/"
        },
        "id": "dqsWetE3mlEF",
        "outputId": "69fa83e8-f24f-48c9-ba31-326694b3a023"
      },
      "execution_count": 18,
      "outputs": [
        {
          "output_type": "stream",
          "name": "stdout",
          "text": [
            "Chords most suitable for middle and pinkie fingers:\n",
            "C Major\n",
            "G Major\n",
            "D Major\n",
            "F Major\n",
            "B Major\n"
          ]
        }
      ]
    },
    {
      "cell_type": "markdown",
      "source": [
        "5."
      ],
      "metadata": {
        "id": "SJGY2gsTaAY4"
      }
    },
    {
      "cell_type": "code",
      "source": [
        "\n",
        "chord_conditions = {\n",
        "    'C Major': (0, 1, 0, 3),\n",
        "    'G Major': (2, 3, 0, 0),\n",
        "    'A Minor': (0, 2, 2, 0),\n",
        "    'D Major': (0, 2, 3, 2),\n",
        "    'F Major': (1, 3, 3, 3),\n",
        "    'B Major': (2, 4, 4, 4),\n",
        "    'E Major': (1, 2, 2, 0),\n",
        "}\n",
        "\n",
        "def identify_chords_for_index_middle_ring(chord_conditions):\n",
        "    suitable_chords = []\n",
        "    for chord, fingers in chord_conditions.items():\n",
        "        index_finger, middle_finger, ring_finger = fingers[0], fingers[1], fingers[2]\n",
        "        if index_finger > 0 and middle_finger > 0 and ring_finger > 0:\n",
        "            suitable_chords.append(chord)\n",
        "    return suitable_chords\n",
        "suitable_chords = identify_chords_for_index_middle_ring(chord_conditions)\n",
        "print(\"Chords with index, middle, and ring fingers used:\")\n",
        "for chord in suitable_chords:\n",
        "    print(chord)\n"
      ],
      "metadata": {
        "colab": {
          "base_uri": "https://localhost:8080/"
        },
        "id": "jEflYemWm0S7",
        "outputId": "bce77a81-9d9f-4d13-b12e-5c5e940e4e9e"
      },
      "execution_count": 19,
      "outputs": [
        {
          "output_type": "stream",
          "name": "stdout",
          "text": [
            "Chords with index, middle, and ring fingers used:\n",
            "F Major\n",
            "B Major\n",
            "E Major\n"
          ]
        }
      ]
    }
  ]
}