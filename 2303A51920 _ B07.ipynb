{
  "nbformat": 4,
  "nbformat_minor": 0,
  "metadata": {
    "colab": {
      "provenance": [],
      "authorship_tag": "ABX9TyNTDONpRx5Ug/ET9+0c9DNL",
      "include_colab_link": true
    },
    "kernelspec": {
      "name": "python3",
      "display_name": "Python 3"
    },
    "language_info": {
      "name": "python"
    }
  },
  "cells": [
    {
      "cell_type": "markdown",
      "metadata": {
        "id": "view-in-github",
        "colab_type": "text"
      },
      "source": [
        "<a href=\"https://colab.research.google.com/github/Vyshnavisangaraboina/vyshnavi_/blob/main/2303A51920%20_%20B07.ipynb\" target=\"_parent\"><img src=\"https://colab.research.google.com/assets/colab-badge.svg\" alt=\"Open In Colab\"/></a>"
      ]
    },
    {
      "cell_type": "markdown",
      "source": [
        "###prediction of Guitar Chords and finger positions in Song composition"
      ],
      "metadata": {
        "id": "N8IBTA8lTkLU"
      }
    },
    {
      "cell_type": "markdown",
      "source": [
        "1.Identify the top 5 chords most played"
      ],
      "metadata": {
        "id": "L4BCTPlfTxls"
      }
    },
    {
      "cell_type": "markdown",
      "source": [
        "2.Predict the finger positions used most in chords"
      ],
      "metadata": {
        "id": "DRU1LpMXT4kU"
      }
    },
    {
      "cell_type": "markdown",
      "source": [
        "3.Top 5 string movements for song composition"
      ],
      "metadata": {
        "id": "vNKjRAq4UAwG"
      }
    },
    {
      "cell_type": "markdown",
      "source": [
        "4.Name the chord condition most suitable for middle and pinkie"
      ],
      "metadata": {
        "id": "F00iE1cuUcN2"
      }
    },
    {
      "cell_type": "markdown",
      "source": [
        "5.Identify the chord with combination of middle, index and ring fingers"
      ],
      "metadata": {
        "id": "eKEaBAfxUxxI"
      }
    },
    {
      "cell_type": "markdown",
      "source": [
        "1."
      ],
      "metadata": {
        "id": "EUJ_FjE3agx3"
      }
    },
    {
      "cell_type": "code",
      "source": [
        "from collections import Counter\n",
        "chords_played = [\n",
        "    'C Major', 'G Major', 'A Minor', 'C Major', 'G Major', 'D Major', 'A Minor',\n",
        "    'C Major', 'G Major', 'E Minor', 'A Minor', 'G Major', 'D Major', 'E Minor',\n",
        "    'C Major', 'D Major', 'A Minor', 'G Major', 'F Major', 'G Major', 'A Minor'\n",
        "]\n",
        "\n",
        "# Count the occurrences of each chord using Counter\n",
        "chord_counts = Counter(chords_played)\n",
        "\n",
        "# Get the top 5 most common chords\n",
        "top_chords = chord_counts.most_common(5)\n",
        "\n",
        "# Print the top 5 most played chords\n",
        "print(\"Top 5 Most Played Chords:\")\n",
        "for chord, count in top_chords:\n",
        "    print(f\"{chord}: {count}\")\n"
      ],
      "metadata": {
        "colab": {
          "base_uri": "https://localhost:8080/"
        },
        "id": "TmAJQPqYj7cD",
        "outputId": "d1b858b5-dfae-4793-fb33-00572b3e99d8"
      },
      "execution_count": 15,
      "outputs": [
        {
          "output_type": "stream",
          "name": "stdout",
          "text": [
            "Top 5 Most Played Chords:\n",
            "G Major: 6\n",
            "A Minor: 5\n",
            "C Major: 4\n",
            "D Major: 3\n",
            "E Minor: 2\n"
          ]
        }
      ]
    },
    {
      "cell_type": "markdown",
      "source": [
        "2."
      ],
      "metadata": {
        "id": "5oy2Ysy3atEk"
      }
    },
    {
      "cell_type": "code",
      "source": [
        "from collections import Counter\n",
        "\n",
        "# Simulated list of finger positions for different chords\n",
        "# Format: {chord_name: (index_finger, middle_finger, ring_finger, pinkie_finger)}\n",
        "# 0 represents an open string or no finger, and a number represents the fret number.\n",
        "chord_finger_positions = {\n",
        "    'C Major': (0, 1, 0, 3),  # Index on 1st fret, middle on 2nd, ring on 3rd, pinkie on 3rd\n",
        "    'G Major': (2, 3, 0, 0),  # Index on 2nd fret, middle on 3rd, ring on 3rd\n",
        "    'A Minor': (0, 2, 2, 0),  # Index on 2nd fret, middle on 2nd fret\n",
        "    'D Major': (0, 2, 3, 2),  # Index on 2nd fret, middle on 3rd, ring on 2nd\n",
        "    'E Minor': (0, 2, 2, 0),  # Index on 2nd fret, middle on 2nd fret\n",
        "    'F Major': (1, 3, 3, 0),  # Index on 1st fret, middle on 3rd, ring on 3rd\n",
        "}\n",
        "\n",
        "# Simulated data: a list of finger positions played in various songs\n",
        "finger_positions_played = [\n",
        "    (0, 1, 0, 3),  # C Major\n",
        "    (2, 3, 0, 0),  # G Major\n",
        "    (0, 2, 2, 0),  # A Minor\n",
        "    (0, 2, 3, 2),  # D Major\n",
        "    (0, 2, 2, 0),  # E Minor\n",
        "    (1, 3, 3, 0),  # F Major\n",
        "    (0, 1, 0, 3),  # C Major\n",
        "    (2, 3, 0, 0),  # G Major\n",
        "    (0, 2, 2, 0),  # A Minor\n",
        "    (0, 2, 3, 2),  # D Major\n",
        "]\n",
        "\n",
        "# Count the occurrences of each finger position combination\n",
        "finger_position_counts = Counter(finger_positions_played)\n",
        "\n",
        "# Get the top 5 most common finger positions\n",
        "top_finger_positions = finger_position_counts.most_common(5)\n",
        "\n",
        "# Print the most common finger positions and their counts\n",
        "print(\"Top 5 Most Used Finger Positions:\")\n",
        "for position, count in top_finger_positions:\n",
        "    print(f\"Finger Position {position}: {count} times\")\n"
      ],
      "metadata": {
        "colab": {
          "base_uri": "https://localhost:8080/"
        },
        "id": "tSk3QRGUmEJF",
        "outputId": "fe7d2dc5-fc89-42fa-937e-a5c858e04d7d"
      },
      "execution_count": 16,
      "outputs": [
        {
          "output_type": "stream",
          "name": "stdout",
          "text": [
            "Top 5 Most Used Finger Positions:\n",
            "Finger Position (0, 2, 2, 0): 3 times\n",
            "Finger Position (0, 1, 0, 3): 2 times\n",
            "Finger Position (2, 3, 0, 0): 2 times\n",
            "Finger Position (0, 2, 3, 2): 2 times\n",
            "Finger Position (1, 3, 3, 0): 1 times\n"
          ]
        }
      ]
    },
    {
      "cell_type": "markdown",
      "source": [
        "3."
      ],
      "metadata": {
        "id": "JPiVRgYDZl26"
      }
    },
    {
      "cell_type": "code",
      "source": [
        "from collections import Counter\n",
        "\n",
        "# Simulated list of string movements in songs\n",
        "# Representing string movements as a tuple of (from_string, to_string)\n",
        "# For example, (6, 5) means moving from string 6 to string 5.\n",
        "string_movements = [\n",
        "    (6, 5), (5, 4), (4, 3), (3, 2),  # Example of a common progression down the strings\n",
        "    (6, 5), (5, 4), (4, 3), (3, 2),\n",
        "    (6, 4), (5, 3), (6, 5), (4, 2),  # Some movement combinations\n",
        "    (3, 1), (6, 5), (6, 4), (5, 3),\n",
        "    (4, 3), (2, 1), (6, 5), (5, 4),\n",
        "    (6, 3), (5, 4), (3, 2), (1, 6),  # Repeated movements\n",
        "]\n",
        "\n",
        "# Count the occurrences of each string movement\n",
        "movement_counts = Counter(string_movements)\n",
        "\n",
        "# Get the top 5 most common string movements\n",
        "top_string_movements = movement_counts.most_common(5)\n",
        "\n",
        "# Print the top 5 most common string movements\n",
        "print(\"Top 5 String Movements:\")\n",
        "for movement, count in top_string_movements:\n",
        "    print(f\"Move from String {movement[0]} to String {movement[1]}: {count} times\")\n"
      ],
      "metadata": {
        "colab": {
          "base_uri": "https://localhost:8080/"
        },
        "id": "HaBiJCHsmS4q",
        "outputId": "abcdc64d-20d7-4d8c-bca4-9d878d007472"
      },
      "execution_count": 17,
      "outputs": [
        {
          "output_type": "stream",
          "name": "stdout",
          "text": [
            "Top 5 String Movements:\n",
            "Move from String 6 to String 5: 5 times\n",
            "Move from String 5 to String 4: 4 times\n",
            "Move from String 4 to String 3: 3 times\n",
            "Move from String 3 to String 2: 3 times\n",
            "Move from String 6 to String 4: 2 times\n"
          ]
        }
      ]
    },
    {
      "cell_type": "markdown",
      "source": [
        "4."
      ],
      "metadata": {
        "id": "rKx8HyqPZsFb"
      }
    },
    {
      "cell_type": "code",
      "source": [
        "# Simulated list of chord conditions\n",
        "# Each chord condition is represented as a tuple of (index_finger, middle_finger, ring_finger, pinkie_finger)\n",
        "# Where each number represents the fret number and 0 represents an open string or no finger\n",
        "\n",
        "# Example chord conditions\n",
        "chord_conditions = {\n",
        "    'C Major': (0, 1, 0, 3),  # Middle on 2nd fret, Pinkie on 3rd fret\n",
        "    'G Major': (2, 3, 0, 3),  # Middle on 3rd fret, Pinkie on 3rd fret\n",
        "    'A Minor': (0, 2, 2, 0),  # Middle on 2nd fret, no pinkie used\n",
        "    'D Major': (0, 2, 3, 2),  # Middle on 2nd fret, no pinkie used\n",
        "    'F Major': (1, 3, 3, 3),  # Middle on 3rd fret, Pinkie on 3rd fret (barre chord)\n",
        "    'B Major': (2, 4, 4, 4),  # Middle on 4th fret, Pinkie on 4th fret (barre chord)\n",
        "    'E Major': (1, 2, 2, 0),  # Middle on 2nd fret, no pinkie used\n",
        "}\n",
        "\n",
        "# Function to identify chords where both middle and pinkie are used\n",
        "def identify_chords_for_middle_and_pinkie(chord_conditions):\n",
        "    suitable_chords = []\n",
        "    for chord, fingers in chord_conditions.items():\n",
        "        middle_finger, pinkie_finger = fingers[1], fingers[3]\n",
        "        # Check if both middle and pinkie are used (i.e., non-zero values)\n",
        "        if middle_finger > 0 and pinkie_finger > 0:\n",
        "            suitable_chords.append(chord)\n",
        "    return suitable_chords\n",
        "\n",
        "# Get the chords where both middle and pinkie are used\n",
        "suitable_chords = identify_chords_for_middle_and_pinkie(chord_conditions)\n",
        "\n",
        "# Print the result\n",
        "print(\"Chords most suitable for middle and pinkie fingers:\")\n",
        "for chord in suitable_chords:\n",
        "    print(chord)\n"
      ],
      "metadata": {
        "colab": {
          "base_uri": "https://localhost:8080/"
        },
        "id": "dqsWetE3mlEF",
        "outputId": "69fa83e8-f24f-48c9-ba31-326694b3a023"
      },
      "execution_count": 18,
      "outputs": [
        {
          "output_type": "stream",
          "name": "stdout",
          "text": [
            "Chords most suitable for middle and pinkie fingers:\n",
            "C Major\n",
            "G Major\n",
            "D Major\n",
            "F Major\n",
            "B Major\n"
          ]
        }
      ]
    },
    {
      "cell_type": "markdown",
      "source": [
        "5."
      ],
      "metadata": {
        "id": "SJGY2gsTaAY4"
      }
    },
    {
      "cell_type": "code",
      "source": [
        "# Simulated list of chord conditions\n",
        "# Each chord condition is represented as a tuple of (index_finger, middle_finger, ring_finger, pinkie_finger)\n",
        "# Where each number represents the fret number and 0 represents an open string or no finger.\n",
        "\n",
        "# Example chord conditions\n",
        "chord_conditions = {\n",
        "    'C Major': (0, 1, 0, 3),   # Index on 1st fret, Ring on 3rd fret, Middle on 2nd fret\n",
        "    'G Major': (2, 3, 0, 0),   # Index on 2nd fret, Ring on 3rd fret, Middle on 2nd fret\n",
        "    'A Minor': (0, 2, 2, 0),   # Index on 2nd fret, Ring on 2nd fret, Middle on 2nd fret\n",
        "    'D Major': (0, 2, 3, 2),   # Index on 2nd fret, Ring on 3rd fret, Middle on 2nd fret\n",
        "    'F Major': (1, 3, 3, 3),   # Index on 1st fret, Ring on 3rd fret, Middle on 3rd fret\n",
        "    'B Major': (2, 4, 4, 4),   # Index on 2nd fret, Ring on 4th fret, Middle on 4th fret\n",
        "    'E Major': (1, 2, 2, 0),   # Index on 1st fret, Ring on 2nd fret, Middle on 2nd fret\n",
        "}\n",
        "\n",
        "# Function to identify chords where index, middle, and ring fingers are used\n",
        "def identify_chords_for_index_middle_ring(chord_conditions):\n",
        "    suitable_chords = []\n",
        "    for chord, fingers in chord_conditions.items():\n",
        "        index_finger, middle_finger, ring_finger = fingers[0], fingers[1], fingers[2]\n",
        "        # Check if index, middle, and ring fingers are all used (non-zero values)\n",
        "        if index_finger > 0 and middle_finger > 0 and ring_finger > 0:\n",
        "            suitable_chords.append(chord)\n",
        "    return suitable_chords\n",
        "\n",
        "# Get the chords where index, middle, and ring fingers are used\n",
        "suitable_chords = identify_chords_for_index_middle_ring(chord_conditions)\n",
        "\n",
        "# Print the result\n",
        "print(\"Chords with index, middle, and ring fingers used:\")\n",
        "for chord in suitable_chords:\n",
        "    print(chord)\n"
      ],
      "metadata": {
        "colab": {
          "base_uri": "https://localhost:8080/"
        },
        "id": "jEflYemWm0S7",
        "outputId": "bce77a81-9d9f-4d13-b12e-5c5e940e4e9e"
      },
      "execution_count": 19,
      "outputs": [
        {
          "output_type": "stream",
          "name": "stdout",
          "text": [
            "Chords with index, middle, and ring fingers used:\n",
            "F Major\n",
            "B Major\n",
            "E Major\n"
          ]
        }
      ]
    }
  ]
}