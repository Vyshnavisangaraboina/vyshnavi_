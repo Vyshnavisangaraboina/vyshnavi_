{
  "nbformat": 4,
  "nbformat_minor": 0,
  "metadata": {
    "colab": {
      "provenance": [],
      "authorship_tag": "ABX9TyMsRuGbp+4XfIoJUqaPBQSM",
      "include_colab_link": true
    },
    "kernelspec": {
      "name": "python3",
      "display_name": "Python 3"
    },
    "language_info": {
      "name": "python"
    }
  },
  "cells": [
    {
      "cell_type": "markdown",
      "metadata": {
        "id": "view-in-github",
        "colab_type": "text"
      },
      "source": [
        "<a href=\"https://colab.research.google.com/github/Vyshnavisangaraboina/vyshnavi_/blob/main/2303A51920_B07.ipynb\" target=\"_parent\"><img src=\"https://colab.research.google.com/assets/colab-badge.svg\" alt=\"Open In Colab\"/></a>"
      ]
    },
    {
      "cell_type": "markdown",
      "source": [
        "###prediction of Guitar Chords and finger positions in Song composition"
      ],
      "metadata": {
        "id": "N8IBTA8lTkLU"
      }
    },
    {
      "cell_type": "markdown",
      "source": [
        "1.Identify the top 5 chords most played"
      ],
      "metadata": {
        "id": "L4BCTPlfTxls"
      }
    },
    {
      "cell_type": "markdown",
      "source": [
        "2.Predict the finger positions used most in chords"
      ],
      "metadata": {
        "id": "DRU1LpMXT4kU"
      }
    },
    {
      "cell_type": "markdown",
      "source": [
        "3.Top 5 string movements for song composition"
      ],
      "metadata": {
        "id": "vNKjRAq4UAwG"
      }
    },
    {
      "cell_type": "markdown",
      "source": [
        "4.Name the chord condition most suitable for middle and pinkie"
      ],
      "metadata": {
        "id": "F00iE1cuUcN2"
      }
    },
    {
      "cell_type": "markdown",
      "source": [
        "5.Identify the chord with combination of middle, index and ring fingers"
      ],
      "metadata": {
        "id": "eKEaBAfxUxxI"
      }
    },
    {
      "cell_type": "markdown",
      "source": [
        "1."
      ],
      "metadata": {
        "id": "EUJ_FjE3agx3"
      }
    },
    {
      "cell_type": "code",
      "source": [
        "import pandas as pd\n",
        "df = pd.read_csv('/path/to/chord-fingers.csv')\n",
        "\n",
        "# Assuming the dataset has a column named 'chord' for the chord names\n",
        "# Replace 'chord' with the actual column name in your dataset\n",
        "top_chords = df['chord'].value_counts().head(5)\n",
        "\n",
        "# Print the top 5 most played chords\n",
        "print(\"Top 5 Most Played Chords:\")\n",
        "print(top_chords)\n"
      ],
      "metadata": {
        "id": "TmAJQPqYj7cD"
      },
      "execution_count": null,
      "outputs": []
    },
    {
      "cell_type": "code",
      "source": [
        "import pandas as pd\n",
        "\n",
        "# Load the dataset\n",
        "# Replace 'your_csv_file.csv' with the actual path to the CSV file\n",
        "df = pd.read_csv('chord-fingers.csv')\n",
        "\n",
        "# Assuming the dataset has columns 'chord' and 'finger_positions'\n",
        "# Replace 'finger_positions' with the actual column name for finger positions in your dataset\n",
        "\n",
        "# Count the most common finger positions across all chords\n",
        "most_common_positions = df['finger_positions'].value_counts().head(5)\n",
        "\n",
        "print(\"Top 5 Most Common Finger Positions Used in Chords:\")\n",
        "print(most_common_positions)\n"
      ],
      "metadata": {
        "id": "iSckpka1aqZP"
      },
      "execution_count": null,
      "outputs": []
    },
    {
      "cell_type": "markdown",
      "source": [
        "2."
      ],
      "metadata": {
        "id": "5oy2Ysy3atEk"
      }
    },
    {
      "cell_type": "code",
      "source": [
        "import pandas as pd\n",
        "\n",
        "# Load the dataset\n",
        "# Replace 'your_csv_file.csv' with the actual path to the CSV file\n",
        "df = pd.read_csv('chord-fingers.csv')\n",
        "\n",
        "# Assuming the dataset has columns 'chord' and 'finger_positions'\n",
        "# Replace 'finger_positions' with the actual column name for finger positions in your dataset\n",
        "\n",
        "# Count the most common finger positions across all chords\n",
        "most_common_positions = df['finger_positions'].value_counts().head(5)\n",
        "\n",
        "print(\"Top 5 Most Common Finger Positions Used in Chords:\")\n",
        "print(most_common_positions)\n"
      ],
      "metadata": {
        "id": "DH322hGsY4YZ"
      },
      "execution_count": null,
      "outputs": []
    },
    {
      "cell_type": "code",
      "source": [
        "from sklearn.model_selection import train_test_split\n",
        "from sklearn.tree import DecisionTreeClassifier\n",
        "from sklearn.preprocessing import LabelEncoder\n",
        "\n",
        "# Preprocess the data\n",
        "chord_encoder = LabelEncoder()\n",
        "df['chord_encoded'] = chord_encoder.fit_transform(df['chord'])\n",
        "\n",
        "finger_encoder = LabelEncoder()\n",
        "df['finger_encoded'] = finger_encoder.fit_transform(df['finger_positions'])\n",
        "\n",
        "X = df[['chord_encoded']]\n",
        "y = df['finger_encoded']\n",
        "\n",
        "# Split into training and test sets\n",
        "X_train, X_test, y_train, y_test = train_test_split(X, y, test_size=0.2, random_state=42)\n",
        "\n",
        "# Train a decision tree classifier\n",
        "model = DecisionTreeClassifier()\n",
        "model.fit(X_train, y_train)\n",
        "\n",
        "# Predict finger positions for test chords\n",
        "predictions = model.predict(X_test)\n",
        "\n",
        "# Decode the predictions back to finger positions\n",
        "decoded_predictions = finger_encoder.inverse_transform(predictions)\n",
        "\n",
        "print(\"Sample Predictions:\")\n",
        "for i in range(5):\n",
        "    print(f\"Chord: {chord_encoder.inverse_transform([X_test.iloc[i, 0]])[0]}, Predicted Finger Position: {decoded_predictions[i]}\")\n"
      ],
      "metadata": {
        "id": "B2bX1buEavtH"
      },
      "execution_count": null,
      "outputs": []
    },
    {
      "cell_type": "markdown",
      "source": [
        "3."
      ],
      "metadata": {
        "id": "JPiVRgYDZl26"
      }
    },
    {
      "cell_type": "code",
      "source": [
        "import pandas as pd\n",
        "\n",
        "# Load the dataset\n",
        "# Replace 'your_csv_file.csv' with the actual path to the CSV file\n",
        "df = pd.read_csv('chord-fingers.csv')\n",
        "\n",
        "# Assuming the dataset has a column named 'string_movements'\n",
        "# Replace 'string_movements' with the actual column name for string movements in your dataset\n",
        "\n",
        "# Count the most common string movements across the dataset\n",
        "top_string_movements = df['string_movements'].value_counts().head(5)\n",
        "\n",
        "print(\"Top 5 String Movements for Song Composition:\")\n",
        "print(top_string_movements)\n"
      ],
      "metadata": {
        "id": "InZ3DJxKZH5I"
      },
      "execution_count": null,
      "outputs": []
    },
    {
      "cell_type": "code",
      "source": [
        "from sklearn.model_selection import train_test_split\n",
        "from sklearn.preprocessing import LabelEncoder\n",
        "from sklearn.ensemble import RandomForestClassifier\n",
        "\n",
        "# Encode string movements\n",
        "string_encoder = LabelEncoder()\n",
        "df['string_movements_encoded'] = string_encoder.fit_transform(df['string_movements'])\n",
        "\n",
        "# Prepare input (X) and output (y) for prediction\n",
        "# For example, predicting the next string movement based on current movement\n",
        "X = df[['string_movements_encoded']].iloc[:-1]  # All but last row\n",
        "y = df['string_movements_encoded'].iloc[1:]     # All but first row\n",
        "\n",
        "# Train-test split\n",
        "X_train, X_test, y_train, y_test = train_test_split(X, y, test_size=0.2, random_state=42)\n",
        "\n",
        "# Train a classifier (e.g., Random Forest)\n",
        "model = RandomForestClassifier()\n",
        "model.fit(X_train, y_train)\n",
        "\n",
        "# Predict the next string movement\n",
        "predictions = model.predict(X_test)\n",
        "\n",
        "# Decode predictions\n",
        "decoded_predictions = string_encoder.inverse_transform(predictions)\n",
        "\n",
        "print(\"Sample Predictions for String Movements:\")\n",
        "for i in range(5):\n",
        "    print(f\"Predicted Next Movement: {decoded_predictions[i]}\")\n"
      ],
      "metadata": {
        "id": "O2hfxcnLZngT"
      },
      "execution_count": null,
      "outputs": []
    },
    {
      "cell_type": "markdown",
      "source": [
        "4."
      ],
      "metadata": {
        "id": "rKx8HyqPZsFb"
      }
    },
    {
      "cell_type": "code",
      "source": [
        "import pandas as pd\n",
        "\n",
        "# Load the dataset\n",
        "# Replace 'your_csv_file.csv' with the actual path to the CSV file\n",
        "df = pd.read_csv('chord-fingers.csv')\n",
        "\n",
        "# Assuming the dataset has columns like 'chord', 'middle_finger', and 'pinkie_finger'\n",
        "# Replace 'middle_finger' and 'pinkie_finger' with the actual column names\n",
        "\n",
        "# Filter chords where both the middle and pinkie fingers are used\n",
        "middle_pinkie_chords = df[(df['middle_finger'] != 0) & (df['pinkie_finger'] != 0)]\n",
        "\n",
        "# Count the occurrence of these chords\n",
        "top_chords = middle_pinkie_chords['chord'].value_counts().head(5)\n",
        "\n",
        "print(\"Top 5 Chords Most Suitable for Middle and Pinkie Fingers:\")\n",
        "print(top_chords)\n"
      ],
      "metadata": {
        "id": "_bCEmK9cZtEk"
      },
      "execution_count": null,
      "outputs": []
    },
    {
      "cell_type": "code",
      "source": [
        "from sklearn.model_selection import train_test_split\n",
        "from sklearn.tree import DecisionTreeClassifier\n",
        "from sklearn.preprocessing import LabelEncoder\n",
        "\n",
        "# Encode chord names\n",
        "chord_encoder = LabelEncoder()\n",
        "df['chord_encoded'] = chord_encoder.fit_transform(df['chord'])\n",
        "\n",
        "# Prepare input (X) and output (y)\n",
        "X = df[['middle_finger', 'pinkie_finger']]\n",
        "y = df['chord_encoded']\n",
        "\n",
        "# Train-test split\n",
        "X_train, X_test, y_train, y_test = train_test_split(X, y, test_size=0.2, random_state=42)\n",
        "\n",
        "# Train a decision tree classifier\n",
        "model = DecisionTreeClassifier()\n",
        "model.fit(X_train, y_train)\n",
        "\n",
        "# Predict chords based on middle and pinkie finger positions\n",
        "predictions = model.predict(X_test)\n",
        "\n",
        "# Decode predictions back to chord names\n",
        "decoded_predictions = chord_encoder.inverse_transform(predictions)\n",
        "\n",
        "print(\"Sample Predictions for Middle and Pinkie Finger Conditions:\")\n",
        "for i in range(5):\n",
        "    print(f\"Predicted Chord: {decoded_predictions[i]}\")\n"
      ],
      "metadata": {
        "id": "ybIr5maOZ7y5"
      },
      "execution_count": null,
      "outputs": []
    },
    {
      "cell_type": "markdown",
      "source": [
        "5."
      ],
      "metadata": {
        "id": "SJGY2gsTaAY4"
      }
    },
    {
      "cell_type": "code",
      "source": [
        "import pandas as pd\n",
        "\n",
        "# Load the dataset\n",
        "# Replace 'your_csv_file.csv' with the actual path to your CSV file\n",
        "df = pd.read_csv('chord-fingers.csv')\n",
        "\n",
        "# Assuming the dataset has columns: 'chord', 'middle_finger', 'index_finger', and 'ring_finger'\n",
        "# Replace these column names with the actual ones in your dataset\n",
        "\n",
        "# Filter chords where middle, index, and ring fingers are used\n",
        "chords_with_combination = df[\n",
        "    (df['middle_finger'] != 0) &\n",
        "    (df['index_finger'] != 0) &\n",
        "    (df['ring_finger'] != 0)\n",
        "]\n",
        "\n",
        "# Count and identify the most common chords with this combination\n",
        "top_chords = chords_with_combination['chord'].value_counts().head(5)\n",
        "\n",
        "print(\"Top 5 Chords Using Middle, Index, and Ring Fingers:\")\n",
        "print(top_chords)\n"
      ],
      "metadata": {
        "id": "33iK0KodaBqo"
      },
      "execution_count": null,
      "outputs": []
    },
    {
      "cell_type": "code",
      "source": [
        "from sklearn.model_selection import train_test_split\n",
        "from sklearn.tree import DecisionTreeClassifier\n",
        "from sklearn.preprocessing import LabelEncoder\n",
        "\n",
        "# Encode chord names\n",
        "chord_encoder = LabelEncoder()\n",
        "df['chord_encoded'] = chord_encoder.fit_transform(df['chord'])\n",
        "\n",
        "# Prepare input (X) and output (y)\n",
        "X = df[['middle_finger', 'index_finger', 'ring_finger']]\n",
        "y = df['chord_encoded']\n",
        "\n",
        "# Train-test split\n",
        "X_train, X_test, y_train, y_test = train_test_split(X, y, test_size=0.2, random_state=42)\n",
        "\n",
        "# Train a decision tree classifier\n",
        "model = DecisionTreeClassifier()\n",
        "model.fit(X_train, y_train)\n",
        "\n",
        "# Predict chords based on finger positions\n",
        "predictions = model.predict(X_test)\n",
        "\n",
        "# Decode predictions back to chord names\n",
        "decoded_predictions = chord_encoder.inverse_transform(predictions)\n",
        "\n",
        "print(\"Sample Predictions for Middle, Index, and Ring Finger Combination:\")\n",
        "for i in range(5):\n",
        "    print(f\"Predicted Chord: {decoded_predictions[i]}\")\n"
      ],
      "metadata": {
        "id": "ty5vLQ57aQId"
      },
      "execution_count": null,
      "outputs": []
    }
  ]
}